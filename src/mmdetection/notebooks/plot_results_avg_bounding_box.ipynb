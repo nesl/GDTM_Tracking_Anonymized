{
 "cells": [
  {
   "cell_type": "code",
   "execution_count": 2,
   "id": "d8176b06-9253-4b6e-a27d-7f5c664aa32e",
   "metadata": {},
   "outputs": [],
   "source": [
    "import numpy as np\n",
    "import pandas as pd\n",
    "from matplotlib import pyplot as plt\n",
    "import seaborn as sns"
   ]
  },
  {
   "cell_type": "code",
   "execution_count": 3,
   "id": "bc5942eb-9e20-4886-aa6e-3735665ee5a1",
   "metadata": {},
   "outputs": [],
   "source": [
    "sns.set_context(\"paper\")\n",
    "sns.set_style(\"darkgrid\")"
   ]
  },
  {
   "cell_type": "markdown",
   "id": "92d201b8-ad41-4955-bd9b-8b86a212a553",
   "metadata": {},
   "source": [
    "## Classification Results"
   ]
  },
  {
   "cell_type": "code",
   "execution_count": 31,
   "id": "9b8c51f3-4dd3-46a8-a5a9-e870632568d8",
   "metadata": {},
   "outputs": [],
   "source": [
    "base_detr_results = {\n",
    "    0.5 : (0.3881798103988981, 1.566702961921692, 0.35076209902763367),\n",
    "    0.6 : (0.4122868109036061, 1.7059528827667236, 0.32257983088493347),\n",
    "    0.7 : (0.446131833046385, 1.9137988090515137, 0.28458917140960693),\n",
    "    0.8 : (0.4885957000581372, 2.2247438430786133, 0.23642176389694214),\n",
    "    0.9 : (0.5293224685872711, 2.720128297805786, 0.1866215616464615)\n",
    "}\n",
    "\n",
    "base_detr_results_df = pd.DataFrame.from_dict(base_detr_results, columns=['ece', 'nll', 'accuracy'], orient='index')\n",
    "base_detr_results_df.reset_index(inplace=True)\n",
    "base_detr_results_df = base_detr_results_df.rename(columns = {'index':'iou'})\n",
    "\n",
    "detr_decoder_ensemble_results = {\n",
    "0.5 : (0.3337526349628904, 1.5079797506332397, 0.3964744210243225),\n",
    "0.6 : (0.364064681915301, 1.664647102355957, 0.36151355504989624),\n",
    "0.7 : (0.4049172893333403, 1.8912467956542969, 0.3157116174697876),\n",
    "0.8 : (0.4558427220440042, 2.2183403968811035, 0.2598857581615448),\n",
    "0.9 : (0.5027828537980524, 2.747073173522949, 0.20238986611366272),\n",
    "}\n",
    "\n",
    "detr_decoder_ensemble_results_df = pd.DataFrame.from_dict(detr_decoder_ensemble_results, columns=['ece', 'nll', 'accuracy'], orient='index')\n",
    "detr_decoder_ensemble_results_df.reset_index(inplace=True)\n",
    "detr_decoder_ensemble_results_df = detr_decoder_ensemble_results_df.rename(columns={'index':'iou'})\n",
    "\n",
    "detr_full_ensemble_results = {\n",
    "    0.5 : (0.32159717725877285, 1.4663114547729492, 0.4175465703010559),\n",
    "    0.6 : (0.35051035374036743, 1.6121017932891846, 0.38443654775619507),\n",
    "    0.7 : (0.39099102648878103, 1.8285490274429321, 0.33868512511253357),\n",
    "    0.8 : (0.445047662059405, 2.156130075454712, 0.2792353630065918),\n",
    "    0.9 : (0.5027604752952337, 2.68404483795166, 0.21029244363307953)\n",
    "}\n",
    "\n",
    "detr_full_ensemble_results_df = pd.DataFrame.from_dict(detr_full_ensemble_results, columns=['ece', 'nll', 'accuracy'], orient='index')\n",
    "detr_full_ensemble_results_df.reset_index(inplace=True)\n",
    "detr_full_ensemble_results_df = detr_full_ensemble_results_df.rename(columns={'index':'iou'})"
   ]
  },
  {
   "cell_type": "code",
   "execution_count": 32,
   "id": "177ed410-1dd2-46be-80ce-65799cc08a30",
   "metadata": {},
   "outputs": [
    {
     "data": {
      "text/html": [
       "<div>\n",
       "<style scoped>\n",
       "    .dataframe tbody tr th:only-of-type {\n",
       "        vertical-align: middle;\n",
       "    }\n",
       "\n",
       "    .dataframe tbody tr th {\n",
       "        vertical-align: top;\n",
       "    }\n",
       "\n",
       "    .dataframe thead th {\n",
       "        text-align: right;\n",
       "    }\n",
       "</style>\n",
       "<table border=\"1\" class=\"dataframe\">\n",
       "  <thead>\n",
       "    <tr style=\"text-align: right;\">\n",
       "      <th></th>\n",
       "      <th>iou</th>\n",
       "      <th>ece</th>\n",
       "      <th>nll</th>\n",
       "      <th>accuracy</th>\n",
       "    </tr>\n",
       "  </thead>\n",
       "  <tbody>\n",
       "    <tr>\n",
       "      <th>0</th>\n",
       "      <td>0.5</td>\n",
       "      <td>0.388180</td>\n",
       "      <td>1.566703</td>\n",
       "      <td>0.350762</td>\n",
       "    </tr>\n",
       "    <tr>\n",
       "      <th>1</th>\n",
       "      <td>0.6</td>\n",
       "      <td>0.412287</td>\n",
       "      <td>1.705953</td>\n",
       "      <td>0.322580</td>\n",
       "    </tr>\n",
       "    <tr>\n",
       "      <th>2</th>\n",
       "      <td>0.7</td>\n",
       "      <td>0.446132</td>\n",
       "      <td>1.913799</td>\n",
       "      <td>0.284589</td>\n",
       "    </tr>\n",
       "    <tr>\n",
       "      <th>3</th>\n",
       "      <td>0.8</td>\n",
       "      <td>0.488596</td>\n",
       "      <td>2.224744</td>\n",
       "      <td>0.236422</td>\n",
       "    </tr>\n",
       "    <tr>\n",
       "      <th>4</th>\n",
       "      <td>0.9</td>\n",
       "      <td>0.529322</td>\n",
       "      <td>2.720128</td>\n",
       "      <td>0.186622</td>\n",
       "    </tr>\n",
       "  </tbody>\n",
       "</table>\n",
       "</div>"
      ],
      "text/plain": [
       "   iou       ece       nll  accuracy\n",
       "0  0.5  0.388180  1.566703  0.350762\n",
       "1  0.6  0.412287  1.705953  0.322580\n",
       "2  0.7  0.446132  1.913799  0.284589\n",
       "3  0.8  0.488596  2.224744  0.236422\n",
       "4  0.9  0.529322  2.720128  0.186622"
      ]
     },
     "execution_count": 32,
     "metadata": {},
     "output_type": "execute_result"
    }
   ],
   "source": [
    "base_detr_results_df"
   ]
  },
  {
   "cell_type": "code",
   "execution_count": 33,
   "id": "56fe0b01-0a6a-4d8f-a9fd-5e953ac9d191",
   "metadata": {},
   "outputs": [
    {
     "data": {
      "text/html": [
       "<div>\n",
       "<style scoped>\n",
       "    .dataframe tbody tr th:only-of-type {\n",
       "        vertical-align: middle;\n",
       "    }\n",
       "\n",
       "    .dataframe tbody tr th {\n",
       "        vertical-align: top;\n",
       "    }\n",
       "\n",
       "    .dataframe thead th {\n",
       "        text-align: right;\n",
       "    }\n",
       "</style>\n",
       "<table border=\"1\" class=\"dataframe\">\n",
       "  <thead>\n",
       "    <tr style=\"text-align: right;\">\n",
       "      <th></th>\n",
       "      <th>iou</th>\n",
       "      <th>ece</th>\n",
       "      <th>nll</th>\n",
       "      <th>accuracy</th>\n",
       "    </tr>\n",
       "  </thead>\n",
       "  <tbody>\n",
       "    <tr>\n",
       "      <th>0</th>\n",
       "      <td>0.5</td>\n",
       "      <td>0.333753</td>\n",
       "      <td>1.507980</td>\n",
       "      <td>0.396474</td>\n",
       "    </tr>\n",
       "    <tr>\n",
       "      <th>1</th>\n",
       "      <td>0.6</td>\n",
       "      <td>0.364065</td>\n",
       "      <td>1.664647</td>\n",
       "      <td>0.361514</td>\n",
       "    </tr>\n",
       "    <tr>\n",
       "      <th>2</th>\n",
       "      <td>0.7</td>\n",
       "      <td>0.404917</td>\n",
       "      <td>1.891247</td>\n",
       "      <td>0.315712</td>\n",
       "    </tr>\n",
       "    <tr>\n",
       "      <th>3</th>\n",
       "      <td>0.8</td>\n",
       "      <td>0.455843</td>\n",
       "      <td>2.218340</td>\n",
       "      <td>0.259886</td>\n",
       "    </tr>\n",
       "    <tr>\n",
       "      <th>4</th>\n",
       "      <td>0.9</td>\n",
       "      <td>0.502783</td>\n",
       "      <td>2.747073</td>\n",
       "      <td>0.202390</td>\n",
       "    </tr>\n",
       "  </tbody>\n",
       "</table>\n",
       "</div>"
      ],
      "text/plain": [
       "   iou       ece       nll  accuracy\n",
       "0  0.5  0.333753  1.507980  0.396474\n",
       "1  0.6  0.364065  1.664647  0.361514\n",
       "2  0.7  0.404917  1.891247  0.315712\n",
       "3  0.8  0.455843  2.218340  0.259886\n",
       "4  0.9  0.502783  2.747073  0.202390"
      ]
     },
     "execution_count": 33,
     "metadata": {},
     "output_type": "execute_result"
    }
   ],
   "source": [
    "detr_decoder_ensemble_results_df"
   ]
  },
  {
   "cell_type": "code",
   "execution_count": 34,
   "id": "74fa88b4-763a-4285-8088-39e136a61bba",
   "metadata": {},
   "outputs": [
    {
     "data": {
      "text/html": [
       "<div>\n",
       "<style scoped>\n",
       "    .dataframe tbody tr th:only-of-type {\n",
       "        vertical-align: middle;\n",
       "    }\n",
       "\n",
       "    .dataframe tbody tr th {\n",
       "        vertical-align: top;\n",
       "    }\n",
       "\n",
       "    .dataframe thead th {\n",
       "        text-align: right;\n",
       "    }\n",
       "</style>\n",
       "<table border=\"1\" class=\"dataframe\">\n",
       "  <thead>\n",
       "    <tr style=\"text-align: right;\">\n",
       "      <th></th>\n",
       "      <th>iou</th>\n",
       "      <th>ece</th>\n",
       "      <th>nll</th>\n",
       "      <th>accuracy</th>\n",
       "    </tr>\n",
       "  </thead>\n",
       "  <tbody>\n",
       "    <tr>\n",
       "      <th>0</th>\n",
       "      <td>0.5</td>\n",
       "      <td>0.321597</td>\n",
       "      <td>1.466311</td>\n",
       "      <td>0.417547</td>\n",
       "    </tr>\n",
       "    <tr>\n",
       "      <th>1</th>\n",
       "      <td>0.6</td>\n",
       "      <td>0.350510</td>\n",
       "      <td>1.612102</td>\n",
       "      <td>0.384437</td>\n",
       "    </tr>\n",
       "    <tr>\n",
       "      <th>2</th>\n",
       "      <td>0.7</td>\n",
       "      <td>0.390991</td>\n",
       "      <td>1.828549</td>\n",
       "      <td>0.338685</td>\n",
       "    </tr>\n",
       "    <tr>\n",
       "      <th>3</th>\n",
       "      <td>0.8</td>\n",
       "      <td>0.445048</td>\n",
       "      <td>2.156130</td>\n",
       "      <td>0.279235</td>\n",
       "    </tr>\n",
       "    <tr>\n",
       "      <th>4</th>\n",
       "      <td>0.9</td>\n",
       "      <td>0.502760</td>\n",
       "      <td>2.684045</td>\n",
       "      <td>0.210292</td>\n",
       "    </tr>\n",
       "  </tbody>\n",
       "</table>\n",
       "</div>"
      ],
      "text/plain": [
       "   iou       ece       nll  accuracy\n",
       "0  0.5  0.321597  1.466311  0.417547\n",
       "1  0.6  0.350510  1.612102  0.384437\n",
       "2  0.7  0.390991  1.828549  0.338685\n",
       "3  0.8  0.445048  2.156130  0.279235\n",
       "4  0.9  0.502760  2.684045  0.210292"
      ]
     },
     "execution_count": 34,
     "metadata": {},
     "output_type": "execute_result"
    }
   ],
   "source": [
    "detr_full_ensemble_results_df"
   ]
  },
  {
   "cell_type": "code",
   "execution_count": 35,
   "id": "f0bc9a53-ed4d-41a1-b9e4-75726ba96c6e",
   "metadata": {},
   "outputs": [
    {
     "data": {
      "image/png": "[encoded data removed]",
      "text/plain": [
       "<Figure size 540x180 with 3 Axes>"
      ]
     },
     "metadata": {},
     "output_type": "display_data"
    }
   ],
   "source": [
    "fig, axes = plt.subplots(1, 3, figsize=(7.5, 2.5))\n",
    "fig.tight_layout(w_pad=2.2)\n",
    "\n",
    "sns.lineplot(x='iou', y='nll', data=base_detr_results_df, ax=axes[0], marker='v', label='Base DETR')\n",
    "sns.lineplot(x='iou', y='nll', data=detr_decoder_ensemble_results_df, ax=axes[0], marker='o', label='Dec. Ensemble')\n",
    "sns.lineplot(x='iou', y='nll', data=detr_full_ensemble_results_df, ax=axes[0], marker='*', label='Ensemble')\n",
    "axes[0].set_ylabel('NLL')\n",
    "axes[0].set_xlabel('IoU')\n",
    "axes[0].set_xticks(ticks=np.arange(0.5, 0.99, 0.1))\n",
    "axes[0].get_legend().remove()\n",
    "sns.lineplot(x='iou', y='ece', data=base_detr_results_df, ax=axes[1], marker='v', label='Base DETR')\n",
    "sns.lineplot(x='iou', y='ece', data=detr_decoder_ensemble_results_df, ax=axes[1], marker='o', label='Dec. Ensemble')\n",
    "sns.lineplot(x='iou', y='ece', data=detr_full_ensemble_results_df, ax=axes[1], marker='*', label='Ensemble')\n",
    "axes[1].set_ylabel('ECE')\n",
    "axes[1].set_xlabel('IoU')\n",
    "axes[1].set_xticks(ticks=np.arange(0.5, 0.99, 0.1))\n",
    "axes[1].get_legend().remove()\n",
    "sns.lineplot(x='iou', y='accuracy', data=base_detr_results_df, ax=axes[2], marker='v', label='Base DETR')\n",
    "sns.lineplot(x='iou', y='accuracy', data=detr_decoder_ensemble_results_df, ax=axes[2], marker='o', label='Dec. Ensemble')\n",
    "sns.lineplot(x='iou', y='accuracy', data=detr_full_ensemble_results_df, ax=axes[2], marker='*', label='Ensemble')\n",
    "\n",
    "axes[2].set_ylabel('Accuracy')\n",
    "axes[2].set_xlabel('IoU')\n",
    "axes[2].set_xticks(ticks=np.arange(0.5, 0.99, 0.1))\n",
    "axes[2].get_legend().remove()\n",
    "fig.legend(handles, labels, loc='upper center', ncol=3, bbox_to_anchor=(0.5, 1.05))\n",
    "\n",
    "plt.savefig('classification_results.pdf', format='pdf', bbox_inches='tight')"
   ]
  },
  {
   "cell_type": "markdown",
   "id": "ac2633c1-def3-41c1-8ec1-e9c10e2c38d3",
   "metadata": {},
   "source": [
    "## Coverage & Precision Results"
   ]
  },
  {
   "cell_type": "code",
   "execution_count": 17,
   "id": "7ada7be2-d5ed-4e5d-ab92-6e3a8cd97c43",
   "metadata": {},
   "outputs": [],
   "source": [
    "base_detr_results = {\n",
    "0.5 : (0.27898370087404856, 0.3107749981931961, 0.30671457060320395),\n",
    "0.6 : (0.2545188232752138, 0.2785261042083046, 0.27684842607838517),\n",
    "0.7 : (0.2173413994865696, 0.23356270997008374, 0.23280175033871198),\n",
    "0.8 : (0.16241360023415613, 0.1710616869812514, 0.17065853350170218),\n",
    "0.9 : (0.08536157270546453, 0.08797507262523059, 0.08775079314053548),\n",
    "}\n",
    "\n",
    "base_detr_results_df = pd.DataFrame.from_dict(base_detr_results, columns=['mean_iou', 'coverage', 'precision'], orient='index')\n",
    "base_detr_results_df.reset_index(inplace=True)\n",
    "base_detr_results_df = base_detr_results_df.rename(columns = {'index':'iou'})\n",
    "\n",
    "detr_decoder_ensemble_results = {\n",
    "0.5 : (0.31138518223402445, 0.3461010847065626, 0.345465240369838), \n",
    "0.6 : (0.28125806922978963, 0.3073006375792217, 0.308083815612627), \n",
    "0.7 : (0.23713784899619142, 0.25443064567947843, 0.25549602946009464), \n",
    "0.8 : (0.17355949452229621, 0.18256520841294457, 0.18313123285487964), \n",
    "0.9 : (0.08726219895490583, 0.08981045860261914, 0.08994831456431358), \n",
    "}\n",
    "\n",
    "detr_decoder_ensemble_results_df = pd.DataFrame.from_dict(detr_decoder_ensemble_results, columns=['mean_iou', 'coverage', 'precision'], orient='index')\n",
    "detr_decoder_ensemble_results_df.reset_index(inplace=True)\n",
    "detr_decoder_ensemble_results_df = detr_decoder_ensemble_results_df.rename(columns={'index':'iou'})\n",
    "\n",
    "detr_full_ensemble_results = {\n",
    "    0.5 : (0.332786279341308, 0.3692995355060119, 0.36558158761119053),\n",
    "    0.6 : (0.30428190360556745, 0.3323352542278105, 0.3307790261997101),\n",
    "    0.7 : (0.2604124638534546, 0.27935132611957725, 0.2791889792188043),\n",
    "    0.8 : (0.19473878703094188, 0.20492785574629444, 0.204980611369956),\n",
    "    0.9 : (0.10016339159300792, 0.10310038787552123, 0.10315194630745286),\n",
    "}\n",
    "\n",
    "detr_full_ensemble_results_df = pd.DataFrame.from_dict(detr_full_ensemble_results, columns=['mean_iou', 'coverage', 'precision'], orient='index')\n",
    "detr_full_ensemble_results_df.reset_index(inplace=True)\n",
    "detr_full_ensemble_results_df = detr_full_ensemble_results_df.rename(columns={'index':'iou'})"
   ]
  },
  {
   "cell_type": "code",
   "execution_count": 30,
   "id": "226197e2-9f0f-4e78-9a9a-e5cb42a4872a",
   "metadata": {},
   "outputs": [
    {
     "data": {
      "image/png": "[encoded data removed]",
      "text/plain": [
       "<Figure size 360x180 with 2 Axes>"
      ]
     },
     "metadata": {},
     "output_type": "display_data"
    }
   ],
   "source": [
    "fig, axes = plt.subplots(1, 2, figsize=(5, 2.5))\n",
    "fig.tight_layout(w_pad=2)\n",
    "sns.lineplot(x='iou', y='coverage', data=base_detr_results_df, ax=axes[0], marker='v', label='Base DETR')\n",
    "sns.lineplot(x='iou', y='coverage', data=detr_decoder_ensemble_results_df, ax=axes[0], marker='o', label='Dec. Ensemble')\n",
    "sns.lineplot(x='iou', y='coverage', data=detr_full_ensemble_results_df, ax=axes[0], marker='*', label='Ensemble')\n",
    "axes[0].set_ylabel('Coverage')\n",
    "axes[0].set_xlabel('IoU')\n",
    "axes[0].set_xticks(ticks=np.arange(0.5, 0.99, 0.1))\n",
    "axes[0].get_legend().remove()\n",
    "sns.lineplot(x='iou', y='precision', data=base_detr_results_df, ax=axes[1], marker='v', label='Base DETR')\n",
    "sns.lineplot(x='iou', y='precision', data=detr_decoder_ensemble_results_df, ax=axes[1], marker='o', label='Dec. Ensemble')\n",
    "sns.lineplot(x='iou', y='precision', data=detr_full_ensemble_results_df, ax=axes[1], marker='*', label='Ensemble')\n",
    "axes[1].set_ylabel('Precision')\n",
    "axes[1].set_xlabel('IoU')\n",
    "axes[1].set_xticks(ticks=np.arange(0.5, 0.99, 0.1))\n",
    "axes[1].get_legend().remove()\n",
    "handles, labels = axes[-1].get_legend_handles_labels()\n",
    "fig.legend(handles, labels, loc='upper center', ncol=3, bbox_to_anchor=(0.5, 1.05))\n",
    "\n",
    "plt.savefig('coverage_precision_results.pdf', format='pdf', bbox_inches='tight')"
   ]
  },
  {
   "cell_type": "code",
   "execution_count": null,
   "id": "576a2409-d803-4440-b6db-bd36c08aac63",
   "metadata": {},
   "outputs": [],
   "source": []
  }
 ],
 "metadata": {
  "kernelspec": {
   "display_name": "Python (anaconda3-os_mmdet)",
   "language": "python",
   "name": "conda-env-anaconda3-os_mmdet-py"
  },
  "language_info": {
   "codemirror_mode": {
    "name": "ipython",
    "version": 3
   },
   "file_extension": ".py",
   "mimetype": "text/x-python",
   "name": "python",
   "nbconvert_exporter": "python",
   "pygments_lexer": "ipython3",
   "version": "3.7.10"
  }
 },
 "nbformat": 4,
 "nbformat_minor": 5
}
