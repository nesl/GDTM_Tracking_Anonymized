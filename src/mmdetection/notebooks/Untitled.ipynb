{
 "cells": [
  {
   "cell_type": "code",
   "execution_count": 7,
   "id": "81f3bfed-8e9f-485f-9fbc-a577c383602e",
   "metadata": {},
   "outputs": [],
   "source": [
    "import json\n",
    "import pickle\n",
    "import os\n",
    "from matplotlib import pyplot as plt\n",
    "import seaborn as sns\n",
    "import pandas as pd\n",
    "from torch.distributions.normal import Normal\n",
    "import torch"
   ]
  },
  {
   "cell_type": "code",
   "execution_count": 10,
   "id": "644baef3-19d3-44e0-a60f-e917f3ce8ca3",
   "metadata": {},
   "outputs": [
    {
     "data": {
      "text/plain": [
       "tensor([[1.0000, 0.5000, 1.0000, 0.5000],\n",
       "        [1.0000, 0.5000, 1.0000, 0.5000],\n",
       "        [1.0000, 0.5000, 1.0000, 0.5000],\n",
       "        [1.0000, 0.5000, 1.0000, 0.5000],\n",
       "        [1.0000, 0.5000, 1.0000, 0.5000],\n",
       "        [1.0000, 0.5000, 1.0000, 0.5000],\n",
       "        [1.0000, 0.5000, 1.0000, 0.5000],\n",
       "        [1.0000, 0.5000, 1.0000, 0.5000],\n",
       "        [1.0000, 0.5000, 1.0000, 0.5000]])"
      ]
     },
     "execution_count": 10,
     "metadata": {},
     "output_type": "execute_result"
    }
   ],
   "source": [
    "torch.ones(9, 4).div(torch.tensor([1, 2, 1, 2]))"
   ]
  },
  {
   "cell_type": "code",
   "execution_count": 16,
   "id": "60bb6e25-0053-4679-bf6d-bd3706f0215b",
   "metadata": {},
   "outputs": [
    {
     "name": "stdout",
     "output_type": "stream",
     "text": [
      "tensor([False,  True, False,  True, False])\n"
     ]
    }
   ],
   "source": [
    "x = torch.isinf(torch.tensor([1, float('inf'), 2, float('-inf'), float('nan')]))\n",
    "if True in x:\n",
    "    print(x)\n",
    "y = torch.isinf(torch.tensor([1,  2, float('nan')]))\n",
    "if True in y:\n",
    "    print(y)"
   ]
  },
  {
   "cell_type": "code",
   "execution_count": 2,
   "id": "bd3480df-15a8-4742-995c-f12637d84586",
   "metadata": {},
   "outputs": [],
   "source": [
    "with open('../../data/coco/annotations/instances_train2017.json', 'r') as jsonfile:\n",
    "    train_annotations = json.load(jsonfile)"
   ]
  },
  {
   "cell_type": "code",
   "execution_count": 11,
   "id": "54b3d298-9d33-451d-a3ba-d729d98c0669",
   "metadata": {},
   "outputs": [
    {
     "data": {
      "text/plain": [
       "dict_keys(['info', 'licenses', 'images', 'annotations', 'categories'])"
      ]
     },
     "execution_count": 11,
     "metadata": {},
     "output_type": "execute_result"
    }
   ],
   "source": [
    "train_annotations.keys()"
   ]
  },
  {
   "cell_type": "code",
   "execution_count": 20,
   "id": "44943e0e-cf8f-4c6b-bb3a-abf0d1518f1d",
   "metadata": {},
   "outputs": [
    {
     "data": {
      "text/plain": [
       "7.27046082832433"
      ]
     },
     "execution_count": 20,
     "metadata": {},
     "output_type": "execute_result"
    }
   ],
   "source": [
    "len(train_annotations['annotations'])/float(len(train_annotations['images']))"
   ]
  },
  {
   "cell_type": "code",
   "execution_count": 21,
   "id": "ab0422ce-d38c-4cfb-8d44-209becd8d53a",
   "metadata": {},
   "outputs": [
    {
     "data": {
      "text/plain": [
       "118287"
      ]
     },
     "execution_count": 21,
     "metadata": {},
     "output_type": "execute_result"
    }
   ],
   "source": [
    "len(train_annotations['images'])"
   ]
  },
  {
   "cell_type": "code",
   "execution_count": 18,
   "id": "e30eda44-ede4-43d1-a0ea-54071f9a3d7b",
   "metadata": {},
   "outputs": [],
   "source": [
    "annotation_df = pd.DataFrame.from_dict(train_annotations['annotations'])"
   ]
  },
  {
   "cell_type": "code",
   "execution_count": 25,
   "id": "a5d2f3f0-a5af-4c57-95e1-f12c87b3d7a3",
   "metadata": {},
   "outputs": [
    {
     "data": {
      "text/html": [
       "<div>\n",
       "<style scoped>\n",
       "    .dataframe tbody tr th:only-of-type {\n",
       "        vertical-align: middle;\n",
       "    }\n",
       "\n",
       "    .dataframe tbody tr th {\n",
       "        vertical-align: top;\n",
       "    }\n",
       "\n",
       "    .dataframe thead th {\n",
       "        text-align: right;\n",
       "    }\n",
       "</style>\n",
       "<table border=\"1\" class=\"dataframe\">\n",
       "  <thead>\n",
       "    <tr style=\"text-align: right;\">\n",
       "      <th></th>\n",
       "      <th>segmentation</th>\n",
       "      <th>area</th>\n",
       "      <th>iscrowd</th>\n",
       "      <th>image_id</th>\n",
       "      <th>bbox</th>\n",
       "      <th>id</th>\n",
       "    </tr>\n",
       "    <tr>\n",
       "      <th>category_id</th>\n",
       "      <th></th>\n",
       "      <th></th>\n",
       "      <th></th>\n",
       "      <th></th>\n",
       "      <th></th>\n",
       "      <th></th>\n",
       "    </tr>\n",
       "  </thead>\n",
       "  <tbody>\n",
       "    <tr>\n",
       "      <th>1</th>\n",
       "      <td>262465</td>\n",
       "      <td>262465</td>\n",
       "      <td>262465</td>\n",
       "      <td>262465</td>\n",
       "      <td>262465</td>\n",
       "      <td>262465</td>\n",
       "    </tr>\n",
       "    <tr>\n",
       "      <th>2</th>\n",
       "      <td>7113</td>\n",
       "      <td>7113</td>\n",
       "      <td>7113</td>\n",
       "      <td>7113</td>\n",
       "      <td>7113</td>\n",
       "      <td>7113</td>\n",
       "    </tr>\n",
       "    <tr>\n",
       "      <th>3</th>\n",
       "      <td>43867</td>\n",
       "      <td>43867</td>\n",
       "      <td>43867</td>\n",
       "      <td>43867</td>\n",
       "      <td>43867</td>\n",
       "      <td>43867</td>\n",
       "    </tr>\n",
       "    <tr>\n",
       "      <th>4</th>\n",
       "      <td>8725</td>\n",
       "      <td>8725</td>\n",
       "      <td>8725</td>\n",
       "      <td>8725</td>\n",
       "      <td>8725</td>\n",
       "      <td>8725</td>\n",
       "    </tr>\n",
       "    <tr>\n",
       "      <th>5</th>\n",
       "      <td>5135</td>\n",
       "      <td>5135</td>\n",
       "      <td>5135</td>\n",
       "      <td>5135</td>\n",
       "      <td>5135</td>\n",
       "      <td>5135</td>\n",
       "    </tr>\n",
       "    <tr>\n",
       "      <th>...</th>\n",
       "      <td>...</td>\n",
       "      <td>...</td>\n",
       "      <td>...</td>\n",
       "      <td>...</td>\n",
       "      <td>...</td>\n",
       "      <td>...</td>\n",
       "    </tr>\n",
       "    <tr>\n",
       "      <th>86</th>\n",
       "      <td>6613</td>\n",
       "      <td>6613</td>\n",
       "      <td>6613</td>\n",
       "      <td>6613</td>\n",
       "      <td>6613</td>\n",
       "      <td>6613</td>\n",
       "    </tr>\n",
       "    <tr>\n",
       "      <th>87</th>\n",
       "      <td>1481</td>\n",
       "      <td>1481</td>\n",
       "      <td>1481</td>\n",
       "      <td>1481</td>\n",
       "      <td>1481</td>\n",
       "      <td>1481</td>\n",
       "    </tr>\n",
       "    <tr>\n",
       "      <th>88</th>\n",
       "      <td>4793</td>\n",
       "      <td>4793</td>\n",
       "      <td>4793</td>\n",
       "      <td>4793</td>\n",
       "      <td>4793</td>\n",
       "      <td>4793</td>\n",
       "    </tr>\n",
       "    <tr>\n",
       "      <th>89</th>\n",
       "      <td>198</td>\n",
       "      <td>198</td>\n",
       "      <td>198</td>\n",
       "      <td>198</td>\n",
       "      <td>198</td>\n",
       "      <td>198</td>\n",
       "    </tr>\n",
       "    <tr>\n",
       "      <th>90</th>\n",
       "      <td>1954</td>\n",
       "      <td>1954</td>\n",
       "      <td>1954</td>\n",
       "      <td>1954</td>\n",
       "      <td>1954</td>\n",
       "      <td>1954</td>\n",
       "    </tr>\n",
       "  </tbody>\n",
       "</table>\n",
       "<p>80 rows × 6 columns</p>\n",
       "</div>"
      ],
      "text/plain": [
       "             segmentation    area  iscrowd  image_id    bbox      id\n",
       "category_id                                                         \n",
       "1                  262465  262465   262465    262465  262465  262465\n",
       "2                    7113    7113     7113      7113    7113    7113\n",
       "3                   43867   43867    43867     43867   43867   43867\n",
       "4                    8725    8725     8725      8725    8725    8725\n",
       "5                    5135    5135     5135      5135    5135    5135\n",
       "...                   ...     ...      ...       ...     ...     ...\n",
       "86                   6613    6613     6613      6613    6613    6613\n",
       "87                   1481    1481     1481      1481    1481    1481\n",
       "88                   4793    4793     4793      4793    4793    4793\n",
       "89                    198     198      198       198     198     198\n",
       "90                   1954    1954     1954      1954    1954    1954\n",
       "\n",
       "[80 rows x 6 columns]"
      ]
     },
     "execution_count": 25,
     "metadata": {},
     "output_type": "execute_result"
    }
   ],
   "source": [
    "annotation_df.groupby(\"category_id\")"
   ]
  },
  {
   "cell_type": "code",
   "execution_count": 22,
   "id": "668a48ab-1ec2-413e-88fe-5515aae78284",
   "metadata": {},
   "outputs": [],
   "source": [
    "with open('../../data/coco/annotations/instances_val2017.json', 'r') as jsonfile:\n",
    "    val_annotations = json.load(jsonfile)"
   ]
  },
  {
   "cell_type": "code",
   "execution_count": 23,
   "id": "ffbff008-81ff-4cf2-97b2-3cda7b0caab4",
   "metadata": {},
   "outputs": [
    {
     "data": {
      "text/plain": [
       "5000"
      ]
     },
     "execution_count": 23,
     "metadata": {},
     "output_type": "execute_result"
    }
   ],
   "source": [
    "len(val_annotations['images'])"
   ]
  },
  {
   "cell_type": "code",
   "execution_count": 24,
   "id": "50880403-f53c-4929-bf43-10b71a8e22ed",
   "metadata": {},
   "outputs": [
    {
     "data": {
      "text/plain": [
       "36781"
      ]
     },
     "execution_count": 24,
     "metadata": {},
     "output_type": "execute_result"
    }
   ],
   "source": [
    "len(val_annotations['annotations'])"
   ]
  },
  {
   "cell_type": "code",
   "execution_count": 6,
   "id": "782d1e44-deda-47e2-9151-9d8bc5f77850",
   "metadata": {},
   "outputs": [
    {
     "data": {
      "text/plain": [
       "tensor([[-0.2258, -0.2258],\n",
       "        [-0.2458, -0.3058]])"
      ]
     },
     "execution_count": 6,
     "metadata": {},
     "output_type": "execute_result"
    }
   ],
   "source": [
    "d = Normal(loc=torch.tensor([0., 0.]), scale=torch.tensor([0.5, 0.5]))\n",
    "d.log_prob(torch.tensor([[0., 0.], [0.1, 0.2]])).exp"
   ]
  },
  {
   "cell_type": "code",
   "execution_count": null,
   "id": "e55317aa-f478-4ad5-985c-2c16cf7b5073",
   "metadata": {},
   "outputs": [],
   "source": []
  }
 ],
 "metadata": {
  "kernelspec": {
   "display_name": "Python (anaconda3-os_mmdet)",
   "language": "python",
   "name": "conda-env-anaconda3-os_mmdet-py"
  },
  "language_info": {
   "codemirror_mode": {
    "name": "ipython",
    "version": 3
   },
   "file_extension": ".py",
   "mimetype": "text/x-python",
   "name": "python",
   "nbconvert_exporter": "python",
   "pygments_lexer": "ipython3",
   "version": "3.7.10"
  }
 },
 "nbformat": 4,
 "nbformat_minor": 5
}
