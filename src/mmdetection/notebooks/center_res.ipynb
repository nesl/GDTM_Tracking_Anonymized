{
 "cells": [
  {
   "cell_type": "code",
   "execution_count": 1,
   "id": "4fd27b00-3fa8-493c-9cc1-3ba44aa6490b",
   "metadata": {},
   "outputs": [],
   "source": [
    "import os\n",
    "import numpy as np\n",
    "import torch\n",
    "import matplotlib.pyplot as plt\n",
    "import glob\n",
    "import cv2\n",
    "import mmdet\n",
    "from mmdet.apis import init_detector, inference_detector\n",
    "from mmdet.datasets import replace_ImageToTensor, build_dataset, build_dataloader\n",
    "from mmdet.datasets.pipelines import Compose\n",
    "from mmdet.core import bbox_cxcywh_to_xyxy, bbox_xyxy_to_cxcywh, bbox_xyxy_to_cxcywh\n",
    "from tqdm import tqdm\n",
    "import pickle\n",
    "from mmdet.core.bbox.iou_calculators.iou2d_calculator import BboxOverlaps2D\n",
    "import lap\n",
    "plt.rcParams['figure.dpi'] = 100"
   ]
  },
  {
   "cell_type": "code",
   "execution_count": 2,
   "id": "9b2fc2cc-3d5a-4d7d-883b-da550dcced52",
   "metadata": {},
   "outputs": [],
   "source": [
    "def _get_ece(preds, targets, n_bins=15):\n",
    "    \"\"\"\n",
    "    ECE ported from Asukha et al., 2020.\n",
    "    :param preds: Prediction probabilities in a Numpy array\n",
    "    :param targets: Targets in a numpy array\n",
    "    :param n_bins: Total number of bins to use.\n",
    "    :return: Expected calibration error.\n",
    "    \"\"\"\n",
    "    bin_boundaries = np.linspace(0, 1, n_bins + 1)\n",
    "    bin_lowers = bin_boundaries[:-1]\n",
    "    bin_uppers = bin_boundaries[1:]\n",
    "\n",
    "    confidences, predictions = np.max(preds, 1), np.argmax(preds, 1)\n",
    "    accuracies = (predictions == targets)\n",
    "\n",
    "    ece = 0.0\n",
    "    avg_confs_in_bins = []\n",
    "    for bin_lower, bin_upper in zip(bin_lowers, bin_uppers):\n",
    "        in_bin = np.logical_and(confidences > bin_lower, confidences <= bin_upper)\n",
    "        prop_in_bin = np.mean(in_bin)\n",
    "        if prop_in_bin > 0:\n",
    "            accuracy_in_bin = np.mean(accuracies[in_bin])\n",
    "            avg_confidence_in_bin = np.mean(confidences[in_bin])\n",
    "            delta = avg_confidence_in_bin - accuracy_in_bin\n",
    "            avg_confs_in_bins.append(delta)\n",
    "            ece += np.abs(delta) * prop_in_bin\n",
    "        else:\n",
    "            avg_confs_in_bins.append(None)\n",
    "    # For reliability diagrams, also need to return these:\n",
    "    # return ece, bin_lowers, avg_confs_in_bins\n",
    "    return ece"
   ]
  },
  {
   "cell_type": "code",
   "execution_count": 86,
   "id": "47f85abb-3f31-45ab-aa7a-942ed101e39a",
   "metadata": {},
   "outputs": [],
   "source": [
    "# with open('../../logs/detr_r50_4x16_decoder_and_output/model_9_train_output.pkl', 'rb') as f:\n",
    "#     data = pickle.load(f)\n",
    "\n",
    "# with open('../../logs/detr_r50_8x2_150e_coco/model_9_train_output.pkl', 'rb') as f:\n",
    "#     data = pickle.load(f)\n",
    "\n",
    "with open('../../logs/adamixer_r50_detr_1x_coco/sgd_model_train_output.pkl', 'rb') as f:\n",
    "    data = pickle.load(f)\n",
    "\n",
    "# with open('../../logs/adamixer_r50_detr_decoder_1x_coco/model_9_train_output.pkl', 'rb') as f:\n",
    "#     data = pickle.load(f)\n",
    "\n",
    "\n",
    "# with open('../../checkpoints/model_train_output.pkl', 'rb') as f:\n",
    "#     data = pickle.load(f)"
   ]
  },
  {
   "cell_type": "code",
   "execution_count": 87,
   "id": "9646debf-e033-4cf1-b1fc-0b9aec8913fe",
   "metadata": {},
   "outputs": [],
   "source": [
    "def linear_assignment(cost_matrix):\n",
    "    _, x, y = lap.lapjv(cost_matrix, extend_cost=True)\n",
    "    matches = np.array([[y[i], i] for i in x if i >= 0])\n",
    "    sort_idx = np.argsort(matches[:, 1])\n",
    "    matches = matches[sort_idx]\n",
    "    matches = torch.from_numpy(matches).long()\n",
    "    return matches"
   ]
  },
  {
   "cell_type": "code",
   "execution_count": 88,
   "id": "d875d749-5db3-4ffd-84ec-e85e9e59e797",
   "metadata": {},
   "outputs": [
    {
     "data": {
      "text/plain": [
       "117266"
      ]
     },
     "execution_count": 88,
     "metadata": {},
     "output_type": "execute_result"
    }
   ],
   "source": [
    "len(data)"
   ]
  },
  {
   "cell_type": "code",
   "execution_count": 89,
   "id": "ac71b81b-e15e-41b2-8bdc-0f19276f3edf",
   "metadata": {
    "scrolled": true,
    "tags": []
   },
   "outputs": [
    {
     "data": {
      "text/plain": [
       "(237235, 506)"
      ]
     },
     "execution_count": 89,
     "metadata": {},
     "output_type": "execute_result"
    }
   ],
   "source": [
    "all_probs, all_labels = [], []\n",
    "count_unmatched = 0\n",
    "count_no_preds = 0\n",
    "total_gt_bboxes = 0\n",
    "IOU_THRESHOLD = 0.5\n",
    "all_res = []\n",
    "num_zero_gt_labels = 0\n",
    "\n",
    "for sample in data:\n",
    "    gt_bboxes = torch.from_numpy(sample['gt_bboxes'])\n",
    "    gt_labels = torch.from_numpy(sample['gt_labels']).long()    \n",
    "    probs = torch.from_numpy(sample['cls_probs'])[-1]\n",
    "    # is_bg = probs[:, -1] >= 0.5\n",
    "    is_bg = (torch.argmax(probs, dim=-1) == (probs.shape[1] - 1)) \n",
    "    #print(is_bg)\n",
    "    #break\n",
    "\n",
    "    max_probs, _ = probs.max(-1)\n",
    "    is_conf = max_probs >= 0.0\n",
    "\n",
    "    mask = ~is_bg & is_conf\n",
    "    probs = probs[mask]\n",
    "    \n",
    "    #scale and convert bbox preds to match gt format\n",
    "    bH, bW = sample['batch_input_shape']\n",
    "    bfactor = torch.tensor([bW, bH, bW, bH]).unsqueeze(0)\n",
    "    norm_gt_bboxes = gt_bboxes / bfactor\n",
    "    #scale and convert bbox preds to match gt format\n",
    "    H, W, _ = sample['ori_shape']\n",
    "\n",
    "    factor = torch.tensor([W, H, W, H]).unsqueeze(0)\n",
    "    gt_bboxes = norm_gt_bboxes * factor\n",
    "    norm_bbox_preds = torch.from_numpy(sample['bbox_preds'][-1]) \n",
    "    bbox_preds = bbox_cxcywh_to_xyxy(norm_bbox_preds) * factor\n",
    "    \n",
    "    bbox_preds = bbox_preds[mask]\n",
    "    norm_bbox_preds = norm_bbox_preds[mask]\n",
    "    center_preds = norm_bbox_preds[:, 0:2]\n",
    "    center_gt = bbox_xyxy_to_cxcywh(norm_gt_bboxes)[:, 0:2]\n",
    "    \n",
    "    if len(gt_labels) == 0:\n",
    "        num_zero_gt_labels += 1\n",
    "        continue\n",
    "    \n",
    "    if len(bbox_preds) == 0:\n",
    "        count_no_preds += 1\n",
    "        all_labels.append(gt_labels)\n",
    "        all_probs.append(torch.ones(len(gt_labels), 81)/81.)\n",
    "        count_unmatched += len(gt_labels)\n",
    "        continue\n",
    "    \n",
    "    #compute pairwise iou between all predictions and gt\n",
    "    #matrix has shape N_preds x N_gt (for detr, N_preds == 100)\n",
    "    ious = BboxOverlaps2D()(bbox_preds, gt_bboxes)\n",
    "    \n",
    "    #set iou to 0 for all boxes predicted as background (optional?)\n",
    "     \n",
    "    #ious[bg_mask] = 0\n",
    "    \n",
    "    #run min cost assignment algo using negative iou \n",
    "    #matrix has shape N_gt x 2\n",
    "    original_matches = matches = linear_assignment(1-ious.numpy())\n",
    "    sel_indices = ious.numpy()[matches.numpy()[:, 0], matches.numpy()[:, 1]] >= IOU_THRESHOLD\n",
    "    matches = matches[sel_indices]\n",
    "    \n",
    "    #res_x = center_preds[matches[:, 0]] - center_gt[matches[:, 1]]\n",
    "    \n",
    "    if len(matches) == 0:\n",
    "        count_no_preds += 1\n",
    "        all_labels.append(gt_labels)\n",
    "        all_probs.append(torch.ones(len(gt_labels), 81)/81.)\n",
    "        count_unmatched += len(gt_labels)\n",
    "        continue\n",
    "    \n",
    "    if len(matches) == len(gt_bboxes):\n",
    "        res = center_gt[matches[:, 1]] - center_preds[matches[:, 0]]\n",
    "        all_res.append(res)\n",
    "    \n",
    "    #all gt boxes should be matched to something (could be background)\n",
    "    #assert len(matches) == len(gt_bboxes)\n",
    "    if len(matches) != len(gt_bboxes):\n",
    "        count_unmatched += len(gt_bboxes) - len(matches)\n",
    "        matched_label_targets = torch.ones(len(matches)).long() * 80\n",
    "        matched_label_targets = gt_labels[matches[:, 1]]\n",
    "        all_probs.append(probs[matches[:, 0]])\n",
    "        all_labels.append(matched_label_targets)\n",
    "        unmatched_gt_indxs = np.setdiff1d(np.arange(len(gt_bboxes)), matches[:, 1])\n",
    "        \n",
    "        if len(unmatched_gt_indxs) != 0:\n",
    "            all_labels.append(gt_labels[unmatched_gt_indxs])\n",
    "            all_probs.append(torch.ones(len(unmatched_gt_indxs), 81)/81.)\n",
    "        \n",
    "        unmatched_pred_indxs = np.setdiff1d(np.arange(len(probs)), matches[:, 0])\n",
    "        if len(unmatched_pred_indxs) != 0:\n",
    "            all_labels.append(torch.ones(len(unmatched_pred_indxs)).long() * 80)\n",
    "            all_probs.append(probs[torch.from_numpy(unmatched_pred_indxs)])\n",
    "        continue\n",
    "    \n",
    "    #convert full label targets\n",
    "    #most predictions are unmatched and are therefore background\n",
    "    label_targets = torch.ones(len(bbox_preds)).long() * 80 #background\n",
    "    label_targets[matches[:, 0]] = gt_labels #gt_labels for matched predictions\n",
    "    #import pdb\n",
    "    #pdb.set_trace()\n",
    "    \n",
    "    #save all probs and assigned labels\n",
    "    all_probs.append(probs)\n",
    "    all_labels.append(label_targets)\n",
    "\n",
    "    \n",
    "all_probs = torch.cat(all_probs)\n",
    "all_labels = torch.cat(all_labels)\n",
    "count_unmatched, count_no_preds"
   ]
  },
  {
   "cell_type": "code",
   "execution_count": 90,
   "id": "fd11b37a-7e04-4a33-98a7-dd9f5a3cf94c",
   "metadata": {},
   "outputs": [
    {
     "data": {
      "text/plain": [
       "0"
      ]
     },
     "execution_count": 90,
     "metadata": {},
     "output_type": "execute_result"
    }
   ],
   "source": [
    "num_zero_gt_labels"
   ]
  },
  {
   "cell_type": "code",
   "execution_count": 91,
   "id": "894fb44d-647d-419e-9678-305195ac3e11",
   "metadata": {},
   "outputs": [
    {
     "data": {
      "text/plain": [
       "58772"
      ]
     },
     "execution_count": 91,
     "metadata": {},
     "output_type": "execute_result"
    }
   ],
   "source": [
    "len(all_res)"
   ]
  },
  {
   "cell_type": "code",
   "execution_count": 92,
   "id": "8e35f466-ff04-4f8c-8577-a16503ab4906",
   "metadata": {},
   "outputs": [
    {
     "data": {
      "text/plain": [
       "torch.Size([177859, 2])"
      ]
     },
     "execution_count": 92,
     "metadata": {},
     "output_type": "execute_result"
    }
   ],
   "source": [
    "res = torch.cat(all_res)\n",
    "res.shape"
   ]
  },
  {
   "cell_type": "code",
   "execution_count": 93,
   "id": "4c2d9453-5d94-4318-a211-69ba6830ab74",
   "metadata": {},
   "outputs": [
    {
     "data": {
      "text/plain": [
       "tensor([0.0002, 0.0003])"
      ]
     },
     "execution_count": 93,
     "metadata": {},
     "output_type": "execute_result"
    }
   ],
   "source": [
    "torch.mean(torch.pow(res, 2), dim=0)"
   ]
  },
  {
   "cell_type": "code",
   "execution_count": 11,
   "id": "430c4351-1496-4bc5-b148-52d872b24e6b",
   "metadata": {},
   "outputs": [],
   "source": [
    "def get_nll(probs, labels):\n",
    "    nll_vals = []\n",
    "    for i in range(len(probs)):\n",
    "        p = probs[i]\n",
    "        l = labels[i]\n",
    "        nll_vals.append(-torch.log(p[l]))\n",
    "    nll_vals = torch.tensor(nll_vals)\n",
    "    return nll_vals.mean().item()\n",
    "\n",
    "def get_acc(probs, labels):\n",
    "    _, max_idx = probs.max(-1)\n",
    "    acc = (max_idx == labels).float().mean()\n",
    "    return acc.item()"
   ]
  },
  {
   "cell_type": "code",
   "execution_count": null,
   "id": "d085fe14-84a4-4d0a-b353-9e0ebb8301dd",
   "metadata": {},
   "outputs": [],
   "source": []
  },
  {
   "cell_type": "code",
   "execution_count": 12,
   "id": "9ac1a7d5-33e0-440a-b79a-b33a40cd0342",
   "metadata": {},
   "outputs": [
    {
     "data": {
      "text/plain": [
       "(0.11643775934141085,\n",
       " 1.3471804857254028,\n",
       " 0.7815948128700256,\n",
       " 0.6651569604873657)"
      ]
     },
     "execution_count": 12,
     "metadata": {},
     "output_type": "execute_result"
    }
   ],
   "source": [
    "is_bg = all_labels == 80 \n",
    "conf = all_probs[~is_bg].max(-1)[0].mean().item()\n",
    "\n",
    "ece = _get_ece(all_probs[~is_bg].numpy(), all_labels[~is_bg].numpy())\n",
    "nll = get_nll(all_probs[~is_bg], all_labels[~is_bg])\n",
    "acc = get_acc(all_probs[~is_bg], all_labels[~is_bg])\n",
    "\n",
    "ece, nll, acc, conf"
   ]
  },
  {
   "cell_type": "code",
   "execution_count": null,
   "id": "35026f5b-3372-4153-81f3-0ac2d1e2f254",
   "metadata": {},
   "outputs": [],
   "source": [
    "conf = all_probs[is_bg].max(-1)[0].mean().item()\n",
    "ece = _get_ece(all_probs[is_bg].numpy(), all_labels[is_bg].numpy())\n",
    "nll = get_nll(all_probs[is_bg], all_labels[is_bg])\n",
    "acc = get_acc(all_probs[is_bg], all_labels[is_bg])\n",
    "\n",
    "ece, nll, acc, conf"
   ]
  },
  {
   "cell_type": "code",
   "execution_count": null,
   "id": "27f12447-aa24-4dca-a192-c1d7b059cb9c",
   "metadata": {},
   "outputs": [],
   "source": [
    "conf = all_probs[is_bg].max(-1)[0].mean().item()\n",
    "ece = _get_ece(all_probs.numpy(), all_labels.numpy())\n",
    "nll = get_nll(all_probs, all_labels)\n",
    "acc = get_acc(all_probs, all_labels)\n",
    "\n",
    "ece, nll, acc"
   ]
  },
  {
   "cell_type": "code",
   "execution_count": null,
   "id": "86f16372-d41f-42ca-bc78-b90fd277de0a",
   "metadata": {},
   "outputs": [],
   "source": [
    "#extract probability predicted for correct class\n",
    "corr_probs = torch.tensor([all_probs[i, lt] for i, lt in enumerate(all_labels)])\n",
    "\n",
    "#mask of locations assigned to background\n",
    "is_bg = all_labels == 80 "
   ]
  },
  {
   "cell_type": "markdown",
   "id": "bfdbbcd6-f41b-4cbb-a855-282b3fa39335",
   "metadata": {
    "tags": []
   },
   "source": [
    "### Across all boxes assigned to non-background, what is the classification accuracy?"
   ]
  },
  {
   "cell_type": "code",
   "execution_count": null,
   "id": "54b7f794-af9b-4945-be8e-5c198d1e4162",
   "metadata": {},
   "outputs": [],
   "source": [
    "vals, idx = all_probs[~is_bg].max(dim=-1)\n",
    "(idx == all_labels[~is_bg]).float().mean().item()"
   ]
  },
  {
   "cell_type": "markdown",
   "id": "5cec9a1c-a57b-4eec-90c8-6dddcafa82f6",
   "metadata": {
    "tags": []
   },
   "source": [
    "### Across all boxes assigned to background, what is the classification accuracy?"
   ]
  },
  {
   "cell_type": "code",
   "execution_count": null,
   "id": "4c862817-e597-43f3-9aa5-7b201e666d5e",
   "metadata": {},
   "outputs": [],
   "source": [
    "vals, idx = all_probs[is_bg].max(dim=-1)\n",
    "(idx == all_labels[is_bg]).float().mean().item()"
   ]
  },
  {
   "cell_type": "markdown",
   "id": "eb6ec7a7-8390-454c-a825-746b814f70da",
   "metadata": {
    "tags": []
   },
   "source": [
    "### Across all boxes, what is the classification accuracy?"
   ]
  },
  {
   "cell_type": "code",
   "execution_count": null,
   "id": "f1ad47c8-2546-4012-84a8-ed64ee8ce03a",
   "metadata": {},
   "outputs": [],
   "source": [
    "vals, idx = all_probs.max(dim=-1)\n",
    "(idx == all_labels).float().mean().item()"
   ]
  },
  {
   "cell_type": "markdown",
   "id": "556790ab-c5fd-4731-88d9-21ffc1c78e88",
   "metadata": {
    "tags": []
   },
   "source": [
    "### Of all the boxes assigned to non-background, what precent predict background with the highest probability?"
   ]
  },
  {
   "cell_type": "code",
   "execution_count": null,
   "id": "2f15fa71-9900-4cde-b80e-ef5d6f0f97b3",
   "metadata": {},
   "outputs": [],
   "source": [
    "vals, idx = all_probs[~is_bg].max(dim=-1)\n",
    "(idx == 80).float().mean().item()"
   ]
  },
  {
   "cell_type": "markdown",
   "id": "6b780cfb-7959-45c5-b557-d248f25b8284",
   "metadata": {
    "tags": []
   },
   "source": [
    "### Of all the boxes assigned to background, what precent predict background with the highest probability?"
   ]
  },
  {
   "cell_type": "code",
   "execution_count": null,
   "id": "e05dcc57-4eb1-4eb9-856f-8e3075cc135f",
   "metadata": {},
   "outputs": [],
   "source": [
    "vals, idx = all_probs[is_bg].max(dim=-1)\n",
    "(idx == 80).float().mean().item()"
   ]
  },
  {
   "cell_type": "markdown",
   "id": "07eb72af-584e-4720-92f0-51524ca455c0",
   "metadata": {
    "tags": []
   },
   "source": [
    "### For all boxes assigned to non-background, what is the histogram of the probability of the most likely class?"
   ]
  },
  {
   "cell_type": "code",
   "execution_count": null,
   "id": "c2746348-6676-4782-8ab6-4ef011112d10",
   "metadata": {},
   "outputs": [],
   "source": [
    "vals, idx = all_probs[~is_bg].max(dim=-1)\n",
    "plt.hist(vals.numpy(), color='blue', bins=100, density=False);\n",
    "plt.xlabel('Predicted Probability');\n",
    "plt.ylabel('Count');"
   ]
  },
  {
   "cell_type": "markdown",
   "id": "030155dc-9232-4e68-8d46-c795cabe1b73",
   "metadata": {
    "tags": []
   },
   "source": [
    "### For all boxes assigned to non-background, what is the histogram of the probability of the correct class?"
   ]
  },
  {
   "cell_type": "code",
   "execution_count": null,
   "id": "858c73ef-5054-41eb-ae5f-c514ec2a4433",
   "metadata": {},
   "outputs": [],
   "source": [
    "plt.hist(corr_probs[~is_bg].numpy(), color='blue', bins=100, density=False);\n",
    "plt.xlabel('Predicted Probability');\n",
    "plt.ylabel('Count');"
   ]
  },
  {
   "cell_type": "markdown",
   "id": "87730118-d3e2-4af3-90af-e3044d1fbe9e",
   "metadata": {
    "tags": []
   },
   "source": [
    "### For all boxes assigned to background, what is the histogram of the probability of the most likely class?"
   ]
  },
  {
   "cell_type": "code",
   "execution_count": null,
   "id": "9f1ecd36-b69e-4caf-9b37-fde2bba32496",
   "metadata": {},
   "outputs": [],
   "source": [
    "vals, idx = all_probs[is_bg].max(dim=-1)\n",
    "plt.hist(vals.numpy(), color='blue', bins=100, density=False);\n",
    "plt.xlabel('Predicted Probability');\n",
    "plt.ylabel('Count');"
   ]
  },
  {
   "cell_type": "markdown",
   "id": "497ee424-a3b9-493f-a869-057b361d4e24",
   "metadata": {
    "tags": []
   },
   "source": [
    "### For all boxes assigned to background, what is the histogram of the probability of the correct class?"
   ]
  },
  {
   "cell_type": "code",
   "execution_count": null,
   "id": "3e5f582c-973a-4ab8-847c-4b039ac6841e",
   "metadata": {},
   "outputs": [],
   "source": [
    "vals, idx = all_probs[is_bg].max(dim=-1)\n",
    "plt.hist(corr_probs[is_bg].numpy(), color='blue', bins=100, density=False);\n",
    "plt.xlabel('Predicted Probability');\n",
    "plt.ylabel('Count');"
   ]
  }
 ],
 "metadata": {
  "kernelspec": {
   "display_name": "Python (anaconda3-os_mmdet)",
   "language": "python",
   "name": "conda-env-anaconda3-os_mmdet-py"
  },
  "language_info": {
   "codemirror_mode": {
    "name": "ipython",
    "version": 3
   },
   "file_extension": ".py",
   "mimetype": "text/x-python",
   "name": "python",
   "nbconvert_exporter": "python",
   "pygments_lexer": "ipython3",
   "version": "3.7.10"
  }
 },
 "nbformat": 4,
 "nbformat_minor": 5
}
